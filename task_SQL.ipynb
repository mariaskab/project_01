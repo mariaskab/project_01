{
  "nbformat": 4,
  "nbformat_minor": 0,
  "metadata": {
    "colab": {
      "provenance": [],
      "authorship_tag": "ABX9TyOuDozELGg4I8tfLt8qRTfn",
      "include_colab_link": true
    },
    "kernelspec": {
      "name": "python3",
      "display_name": "Python 3"
    },
    "language_info": {
      "name": "python"
    }
  },
  "cells": [
    {
      "cell_type": "markdown",
      "metadata": {
        "id": "view-in-github",
        "colab_type": "text"
      },
      "source": [
        "<a href=\"https://colab.research.google.com/github/mariaskab/project_01/blob/main/task_SQL.ipynb\" target=\"_parent\"><img src=\"https://colab.research.google.com/assets/colab-badge.svg\" alt=\"Open In Colab\"/></a>"
      ]
    },
    {
      "cell_type": "code",
      "execution_count": null,
      "metadata": {
        "id": "UvWbEJBmqAO1",
        "colab": {
          "base_uri": "https://localhost:8080/",
          "height": 241
        },
        "cellView": "code",
        "outputId": "ec967cb5-a090-43d8-ded2-b64fea40066d"
      },
      "outputs": [
        {
          "output_type": "error",
          "ename": "OperationalError",
          "evalue": "ignored",
          "traceback": [
            "\u001b[0;31m---------------------------------------------------------------------------\u001b[0m",
            "\u001b[0;31mOperationalError\u001b[0m                          Traceback (most recent call last)",
            "\u001b[0;32m<ipython-input-5-4975120222a1>\u001b[0m in \u001b[0;36m<cell line: 11>\u001b[0;34m()\u001b[0m\n\u001b[1;32m      9\u001b[0m   );\n\u001b[1;32m     10\u001b[0m   \"\"\"\n\u001b[0;32m---> 11\u001b[0;31m \u001b[0mcursor\u001b[0m\u001b[0;34m.\u001b[0m\u001b[0mexecute\u001b[0m\u001b[0;34m(\u001b[0m\u001b[0mquery\u001b[0m\u001b[0;34m)\u001b[0m\u001b[0;34m\u001b[0m\u001b[0;34m\u001b[0m\u001b[0m\n\u001b[0m\u001b[1;32m     12\u001b[0m \u001b[0mconnection\u001b[0m\u001b[0;34m.\u001b[0m\u001b[0mcommit\u001b[0m\u001b[0;34m(\u001b[0m\u001b[0;34m)\u001b[0m\u001b[0;34m\u001b[0m\u001b[0;34m\u001b[0m\u001b[0m\n\u001b[1;32m     13\u001b[0m \u001b[0mconnection\u001b[0m\u001b[0;34m.\u001b[0m\u001b[0mclose\u001b[0m\u001b[0;34m(\u001b[0m\u001b[0;34m)\u001b[0m\u001b[0;34m\u001b[0m\u001b[0;34m\u001b[0m\u001b[0m\n",
            "\u001b[0;31mOperationalError\u001b[0m: table Students already exists"
          ]
        }
      ],
      "source": [
        "# Создание БД\n",
        "import sqlite3\n",
        "connection = sqlite3.connect('teatchers.db')\n",
        "cursor = connection.cursor()\n",
        "query = \"\"\"CREATE TABLE Students (\n",
        "  Student_Id INTERGER NOT NULL PRIMARY KEY,\n",
        "  Student_Name TEXT NOT NULL,\n",
        "  School_Id INTEGER NOT NULL\n",
        "  );\n",
        "  \"\"\"\n",
        "cursor.execute(query)\n",
        "connection.commit()\n",
        "connection.close()"
      ]
    },
    {
      "cell_type": "code",
      "source": [
        "import sqlite3\n",
        "connection = sqlite3.connect('teatchers.db')\n",
        "cursor = connection.cursor()\n",
        "query = \"\"\"INSERT INTO (Student_Id, Student_Name, School_Id)\n",
        "VALEUS\n",
        "('201', 'Иван', '1'),\n",
        "('202', 'Петр', '2'),\n",
        "('203', 'Анастасия', '3'),\n",
        "('204', 'Игорь', '4');\n",
        "\"\"\"\n",
        "cursor.execute(query)\n",
        "connection.commit()\n",
        "connection.close()"
      ],
      "metadata": {
        "id": "Gs3YmmPm6gEU",
        "colab": {
          "base_uri": "https://localhost:8080/",
          "height": 241
        },
        "outputId": "9dddb6f4-9688-493c-f513-dca4083c20f8"
      },
      "execution_count": 11,
      "outputs": [
        {
          "output_type": "error",
          "ename": "OperationalError",
          "evalue": "ignored",
          "traceback": [
            "\u001b[0;31m---------------------------------------------------------------------------\u001b[0m",
            "\u001b[0;31mOperationalError\u001b[0m                          Traceback (most recent call last)",
            "\u001b[0;32m<ipython-input-11-1d4d7f1b0e91>\u001b[0m in \u001b[0;36m<cell line: 11>\u001b[0;34m()\u001b[0m\n\u001b[1;32m      9\u001b[0m \u001b[0;34m(\u001b[0m\u001b[0;34m'204'\u001b[0m\u001b[0;34m,\u001b[0m \u001b[0;34m'Игорь'\u001b[0m\u001b[0;34m,\u001b[0m \u001b[0;34m'4'\u001b[0m\u001b[0;34m)\u001b[0m\u001b[0;34m;\u001b[0m\u001b[0;34m\u001b[0m\u001b[0;34m\u001b[0m\u001b[0m\n\u001b[1;32m     10\u001b[0m \"\"\"\n\u001b[0;32m---> 11\u001b[0;31m \u001b[0mcursor\u001b[0m\u001b[0;34m.\u001b[0m\u001b[0mexecute\u001b[0m\u001b[0;34m(\u001b[0m\u001b[0mquery\u001b[0m\u001b[0;34m)\u001b[0m\u001b[0;34m\u001b[0m\u001b[0;34m\u001b[0m\u001b[0m\n\u001b[0m\u001b[1;32m     12\u001b[0m \u001b[0mconnection\u001b[0m\u001b[0;34m.\u001b[0m\u001b[0mcommit\u001b[0m\u001b[0;34m(\u001b[0m\u001b[0;34m)\u001b[0m\u001b[0;34m\u001b[0m\u001b[0;34m\u001b[0m\u001b[0m\n\u001b[1;32m     13\u001b[0m \u001b[0mconnection\u001b[0m\u001b[0;34m.\u001b[0m\u001b[0mclose\u001b[0m\u001b[0;34m(\u001b[0m\u001b[0;34m)\u001b[0m\u001b[0;34m\u001b[0m\u001b[0;34m\u001b[0m\u001b[0m\n",
            "\u001b[0;31mOperationalError\u001b[0m: near \"(\": syntax error"
          ]
        }
      ]
    },
    {
      "cell_type": "code",
      "source": [
        "import sqlite3\n",
        "def get_connection():\n",
        "  connection = sqlite3.connect('teatchers.db')\n",
        "  return connection\n",
        "  \n",
        "def close_connection(connection)\n",
        "  if connection:\n",
        "    connection.close()\n",
        "    \n",
        "def get_school_detail(school_id): \n",
        "  try:\n",
        "    connection = get_connection()\n",
        "    cursor = connection.cursor()\n",
        "    select_query = \"\"\"SELECT * FROM School WHERE School_Id = ?\"\"\"\n",
        "    cursor.execute(select_query,(school_id))\n",
        "    records = cursor.fetchall()\n",
        "    print(\"Данные по школе\")\n",
        "    for row in records:\n",
        "      print (\"ID школы: \", row[0])\n",
        "      print (\"Название школы:\" row[1])\n",
        "    close_connection(connection)\n",
        "  except (Exception, sqlite3.Error) as error:\n",
        "    print (\"Ошибка в получении данных\", error)\n",
        "\n",
        "def get_student_detail(student_id):\n",
        "  try:\n",
        "     connection = get_connection()\n",
        "     cursor = connection.cursor()\n",
        "     cursor.execute(select_query,(student_id,))\n",
        "     record = cursor.fetchall()\n",
        "     print (\"Данные по студентам\")\n",
        "     for row in records:\n",
        "       print (\"ID Студента: \", row[0])\n",
        "       print (\"Имя студента: \", row[1])\n",
        "       print (\"ID школы: \", row[2])\n",
        "       print ( \"Название школы: \", row[3])\n",
        "  except (Exception, sqlite3.Error) as error:\n",
        "    print (\"Ошибка в получении данных\", error)         "
      ],
      "metadata": {
        "id": "rZ2dIJjNDuxo",
        "colab": {
          "base_uri": "https://localhost:8080/",
          "height": 133
        },
        "outputId": "0fa98053-2c7a-4a33-a664-f6105b8db6cf"
      },
      "execution_count": 12,
      "outputs": [
        {
          "output_type": "error",
          "ename": "SyntaxError",
          "evalue": "ignored",
          "traceback": [
            "\u001b[0;36m  File \u001b[0;32m\"<ipython-input-12-5145aed646c4>\"\u001b[0;36m, line \u001b[0;32m6\u001b[0m\n\u001b[0;31m    def close_connection(connection)\u001b[0m\n\u001b[0m                                    ^\u001b[0m\n\u001b[0;31mSyntaxError\u001b[0m\u001b[0;31m:\u001b[0m invalid syntax\n"
          ]
        }
      ]
    }
  ]
}